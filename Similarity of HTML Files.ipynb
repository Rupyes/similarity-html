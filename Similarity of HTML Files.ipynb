{
 "cells": [
  {
   "cell_type": "code",
   "execution_count": null,
   "metadata": {
    "ExecuteTime": {
     "end_time": "2021-12-19T02:09:43.769522Z",
     "start_time": "2021-12-19T02:09:43.764682Z"
    }
   },
   "outputs": [],
   "source": [
    "import os\n",
    "from bs4 import BeautifulSoup"
   ]
  },
  {
   "cell_type": "code",
   "execution_count": null,
   "metadata": {
    "ExecuteTime": {
     "end_time": "2021-12-19T02:03:39.155571Z",
     "start_time": "2021-12-19T02:03:39.147370Z"
    }
   },
   "outputs": [],
   "source": [
    "def getPaths(node, level):\n",
    "    paths=[]\n",
    "    def pre_order(node, p=None, level_=0):\n",
    "        if p is None:\n",
    "            p = node.name\n",
    "        else:\n",
    "            attrs_ = list(node.attrs.keys())\n",
    "            if attrs_:\n",
    "                s = f'{node.name}:{\":\".join(attrs_)}'\n",
    "                p = p +\"-\"+ s\n",
    "            else:\n",
    "                p = p + \"-\" + node.name \n",
    "        if level_ == level:\n",
    "            paths.append(p)\n",
    "            return\n",
    "        level_ += 1\n",
    "        if node:\n",
    "            nodes = node.findAll(recursive=False)\n",
    "            if nodes:\n",
    "                for n in nodes:\n",
    "                    pre_order(n, p, level_)\n",
    "            else:\n",
    "                paths.append(p)\n",
    "    pre_order(node)\n",
    "    return paths\n"
   ]
  },
  {
   "cell_type": "code",
   "execution_count": null,
   "metadata": {
    "ExecuteTime": {
     "end_time": "2021-12-19T02:15:59.729786Z",
     "start_time": "2021-12-19T02:15:59.723200Z"
    }
   },
   "outputs": [],
   "source": [
    "def find_similarity(fpath1, fpath2, level):\n",
    "    with open(fpath1) as f:\n",
    "        f1 = f.read()\n",
    "\n",
    "    with open(fpath2) as f:\n",
    "        f2 = f.read()\n",
    "\n",
    "    soup1 = BeautifulSoup(f1)\n",
    "    soup2 = BeautifulSoup(f2)\n",
    "    \n",
    "    paths1 = getPaths(soup1.find(\"html\"), level)\n",
    "    paths2 = getPaths(soup2.find(\"html\"), level)\n",
    "\n",
    "    set1 = set(paths1)\n",
    "    set2 = set(paths2)\n",
    "\n",
    "    similarity = len(set1.intersection(set2))/len(set1.union(set2))\n",
    "    return round(similarity*100,4)"
   ]
  },
  {
   "cell_type": "code",
   "execution_count": null,
   "metadata": {
    "ExecuteTime": {
     "end_time": "2021-12-19T02:21:15.720653Z",
     "start_time": "2021-12-19T02:21:14.731351Z"
    }
   },
   "outputs": [],
   "source": [
    "h = {}\n",
    "files = [f'files/{f}' for f in os.listdir(\"files/\") if f.endswith(\".html\")]\n",
    "\n",
    "i = 0\n",
    "while i < len(files)-1:\n",
    "    j = i+1\n",
    "    while j < len(files):\n",
    "        h[f\"{files[i]}:-:{files[j]}\"] = find_similarity(files[i], files[j], \"all\")\n",
    "        j += 1\n",
    "    i += 1\n",
    "\n",
    "for k in h.keys():\n",
    "    print(f\"{k} >> {h[k]}\")"
   ]
  },
  {
   "cell_type": "code",
   "execution_count": null,
   "metadata": {},
   "outputs": [],
   "source": []
  }
 ],
 "metadata": {
  "kernelspec": {
   "display_name": "Python 3",
   "language": "python",
   "name": "python3"
  },
  "language_info": {
   "codemirror_mode": {
    "name": "ipython",
    "version": 3
   },
   "file_extension": ".py",
   "mimetype": "text/x-python",
   "name": "python",
   "nbconvert_exporter": "python",
   "pygments_lexer": "ipython3",
   "version": "3.8.0"
  }
 },
 "nbformat": 4,
 "nbformat_minor": 4
}
